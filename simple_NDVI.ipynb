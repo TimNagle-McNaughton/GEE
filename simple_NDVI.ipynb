{
 "cells": [
  {
   "cell_type": "code",
   "execution_count": 1,
   "id": "46c29727",
   "metadata": {},
   "outputs": [],
   "source": [
    "# import geospatial packages\n",
    "import ee\n",
    "import folium\n",
    "import geehydro\n",
    "\n",
    "# import others\n",
    "from datetime import datetime as dt\n",
    "from IPython.display import Image"
   ]
  },
  {
   "cell_type": "code",
   "execution_count": 2,
   "id": "0de7ce15",
   "metadata": {},
   "outputs": [],
   "source": [
    "# connect to Earth Engine\n",
    "ee.Initialize()"
   ]
  },
  {
   "cell_type": "code",
   "execution_count": 3,
   "id": "8fc3ec65",
   "metadata": {},
   "outputs": [],
   "source": [
    "# we'll focus on an area in the amazon\n",
    "amazon_map = folium.Map(location=[-4, -52], zoom_start=10)"
   ]
  },
  {
   "cell_type": "code",
   "execution_count": 4,
   "id": "6f5c563f",
   "metadata": {},
   "outputs": [
    {
     "data": {
      "text/html": [
       "<div style=\"width:100%;\"><div style=\"position:relative;width:100%;height:0;padding-bottom:60%;\"><span style=\"color:#565656\">Make this Notebook Trusted to load map: File -> Trust Notebook</span><iframe src=\"about:blank\" style=\"position:absolute;width:100%;height:100%;left:0;top:0;border:none !important;\" data-html=%3C%21DOCTYPE%20html%3E%0A%3Chead%3E%20%20%20%20%0A%20%20%20%20%3Cmeta%20http-equiv%3D%22content-type%22%20content%3D%22text/html%3B%20charset%3DUTF-8%22%20/%3E%0A%20%20%20%20%0A%20%20%20%20%20%20%20%20%3Cscript%3E%0A%20%20%20%20%20%20%20%20%20%20%20%20L_NO_TOUCH%20%3D%20false%3B%0A%20%20%20%20%20%20%20%20%20%20%20%20L_DISABLE_3D%20%3D%20false%3B%0A%20%20%20%20%20%20%20%20%3C/script%3E%0A%20%20%20%20%0A%20%20%20%20%3Cstyle%3Ehtml%2C%20body%20%7Bwidth%3A%20100%25%3Bheight%3A%20100%25%3Bmargin%3A%200%3Bpadding%3A%200%3B%7D%3C/style%3E%0A%20%20%20%20%3Cstyle%3E%23map%20%7Bposition%3Aabsolute%3Btop%3A0%3Bbottom%3A0%3Bright%3A0%3Bleft%3A0%3B%7D%3C/style%3E%0A%20%20%20%20%3Cscript%20src%3D%22https%3A//cdn.jsdelivr.net/npm/leaflet%401.6.0/dist/leaflet.js%22%3E%3C/script%3E%0A%20%20%20%20%3Cscript%20src%3D%22https%3A//code.jquery.com/jquery-1.12.4.min.js%22%3E%3C/script%3E%0A%20%20%20%20%3Cscript%20src%3D%22https%3A//maxcdn.bootstrapcdn.com/bootstrap/3.2.0/js/bootstrap.min.js%22%3E%3C/script%3E%0A%20%20%20%20%3Cscript%20src%3D%22https%3A//cdnjs.cloudflare.com/ajax/libs/Leaflet.awesome-markers/2.0.2/leaflet.awesome-markers.js%22%3E%3C/script%3E%0A%20%20%20%20%3Clink%20rel%3D%22stylesheet%22%20href%3D%22https%3A//cdn.jsdelivr.net/npm/leaflet%401.6.0/dist/leaflet.css%22/%3E%0A%20%20%20%20%3Clink%20rel%3D%22stylesheet%22%20href%3D%22https%3A//maxcdn.bootstrapcdn.com/bootstrap/3.2.0/css/bootstrap.min.css%22/%3E%0A%20%20%20%20%3Clink%20rel%3D%22stylesheet%22%20href%3D%22https%3A//maxcdn.bootstrapcdn.com/bootstrap/3.2.0/css/bootstrap-theme.min.css%22/%3E%0A%20%20%20%20%3Clink%20rel%3D%22stylesheet%22%20href%3D%22https%3A//maxcdn.bootstrapcdn.com/font-awesome/4.6.3/css/font-awesome.min.css%22/%3E%0A%20%20%20%20%3Clink%20rel%3D%22stylesheet%22%20href%3D%22https%3A//cdnjs.cloudflare.com/ajax/libs/Leaflet.awesome-markers/2.0.2/leaflet.awesome-markers.css%22/%3E%0A%20%20%20%20%3Clink%20rel%3D%22stylesheet%22%20href%3D%22https%3A//cdn.jsdelivr.net/gh/python-visualization/folium/folium/templates/leaflet.awesome.rotate.min.css%22/%3E%0A%20%20%20%20%0A%20%20%20%20%20%20%20%20%20%20%20%20%3Cmeta%20name%3D%22viewport%22%20content%3D%22width%3Ddevice-width%2C%0A%20%20%20%20%20%20%20%20%20%20%20%20%20%20%20%20initial-scale%3D1.0%2C%20maximum-scale%3D1.0%2C%20user-scalable%3Dno%22%20/%3E%0A%20%20%20%20%20%20%20%20%20%20%20%20%3Cstyle%3E%0A%20%20%20%20%20%20%20%20%20%20%20%20%20%20%20%20%23map_97aeedb8f7ca42f3b90eef1007c179d9%20%7B%0A%20%20%20%20%20%20%20%20%20%20%20%20%20%20%20%20%20%20%20%20position%3A%20relative%3B%0A%20%20%20%20%20%20%20%20%20%20%20%20%20%20%20%20%20%20%20%20width%3A%20100.0%25%3B%0A%20%20%20%20%20%20%20%20%20%20%20%20%20%20%20%20%20%20%20%20height%3A%20100.0%25%3B%0A%20%20%20%20%20%20%20%20%20%20%20%20%20%20%20%20%20%20%20%20left%3A%200.0%25%3B%0A%20%20%20%20%20%20%20%20%20%20%20%20%20%20%20%20%20%20%20%20top%3A%200.0%25%3B%0A%20%20%20%20%20%20%20%20%20%20%20%20%20%20%20%20%7D%0A%20%20%20%20%20%20%20%20%20%20%20%20%3C/style%3E%0A%20%20%20%20%20%20%20%20%0A%3C/head%3E%0A%3Cbody%3E%20%20%20%20%0A%20%20%20%20%0A%20%20%20%20%20%20%20%20%20%20%20%20%3Cdiv%20class%3D%22folium-map%22%20id%3D%22map_97aeedb8f7ca42f3b90eef1007c179d9%22%20%3E%3C/div%3E%0A%20%20%20%20%20%20%20%20%0A%3C/body%3E%0A%3Cscript%3E%20%20%20%20%0A%20%20%20%20%0A%20%20%20%20%20%20%20%20%20%20%20%20var%20map_97aeedb8f7ca42f3b90eef1007c179d9%20%3D%20L.map%28%0A%20%20%20%20%20%20%20%20%20%20%20%20%20%20%20%20%22map_97aeedb8f7ca42f3b90eef1007c179d9%22%2C%0A%20%20%20%20%20%20%20%20%20%20%20%20%20%20%20%20%7B%0A%20%20%20%20%20%20%20%20%20%20%20%20%20%20%20%20%20%20%20%20center%3A%20%5B-4.0%2C%20-52.0%5D%2C%0A%20%20%20%20%20%20%20%20%20%20%20%20%20%20%20%20%20%20%20%20crs%3A%20L.CRS.EPSG3857%2C%0A%20%20%20%20%20%20%20%20%20%20%20%20%20%20%20%20%20%20%20%20zoom%3A%2010%2C%0A%20%20%20%20%20%20%20%20%20%20%20%20%20%20%20%20%20%20%20%20zoomControl%3A%20true%2C%0A%20%20%20%20%20%20%20%20%20%20%20%20%20%20%20%20%20%20%20%20preferCanvas%3A%20false%2C%0A%20%20%20%20%20%20%20%20%20%20%20%20%20%20%20%20%7D%0A%20%20%20%20%20%20%20%20%20%20%20%20%29%3B%0A%0A%20%20%20%20%20%20%20%20%20%20%20%20%0A%0A%20%20%20%20%20%20%20%20%0A%20%20%20%20%0A%20%20%20%20%20%20%20%20%20%20%20%20var%20tile_layer_6c2289e46ccf4fc08cf0634004512185%20%3D%20L.tileLayer%28%0A%20%20%20%20%20%20%20%20%20%20%20%20%20%20%20%20%22https%3A//%7Bs%7D.tile.openstreetmap.org/%7Bz%7D/%7Bx%7D/%7By%7D.png%22%2C%0A%20%20%20%20%20%20%20%20%20%20%20%20%20%20%20%20%7B%22attribution%22%3A%20%22Data%20by%20%5Cu0026copy%3B%20%5Cu003ca%20href%3D%5C%22http%3A//openstreetmap.org%5C%22%5Cu003eOpenStreetMap%5Cu003c/a%5Cu003e%2C%20under%20%5Cu003ca%20href%3D%5C%22http%3A//www.openstreetmap.org/copyright%5C%22%5Cu003eODbL%5Cu003c/a%5Cu003e.%22%2C%20%22detectRetina%22%3A%20false%2C%20%22maxNativeZoom%22%3A%2018%2C%20%22maxZoom%22%3A%2018%2C%20%22minZoom%22%3A%200%2C%20%22noWrap%22%3A%20false%2C%20%22opacity%22%3A%201%2C%20%22subdomains%22%3A%20%22abc%22%2C%20%22tms%22%3A%20false%7D%0A%20%20%20%20%20%20%20%20%20%20%20%20%29.addTo%28map_97aeedb8f7ca42f3b90eef1007c179d9%29%3B%0A%20%20%20%20%20%20%20%20%0A%3C/script%3E onload=\"this.contentDocument.open();this.contentDocument.write(    decodeURIComponent(this.getAttribute('data-html')));this.contentDocument.close();\" allowfullscreen webkitallowfullscreen mozallowfullscreen></iframe></div></div>"
      ],
      "text/plain": [
       "<folium.folium.Map at 0x18fd50f8910>"
      ]
     },
     "execution_count": 4,
     "metadata": {},
     "output_type": "execute_result"
    }
   ],
   "source": [
    "amazon_map"
   ]
  },
  {
   "cell_type": "code",
   "execution_count": 5,
   "id": "afde6c95",
   "metadata": {},
   "outputs": [],
   "source": [
    "# load in the landsat 8 assets, we could use other catalogs too\n",
    "landsat8 = ee.ImageCollection(\"LANDSAT/LC08/C01/T1_SR\")"
   ]
  },
  {
   "cell_type": "code",
   "execution_count": 6,
   "id": "b1d9b8be",
   "metadata": {},
   "outputs": [],
   "source": [
    "# define an area of interest, there are a range of ways of doing this\n",
    "AOI = ee.Geometry.Rectangle([-51.84448, -3.92180, -52.23999, -4.38201])"
   ]
  },
  {
   "cell_type": "code",
   "execution_count": 7,
   "id": "0760ecbd",
   "metadata": {},
   "outputs": [],
   "source": [
    "# filter the landsat imagery spatially to just images that cover our AOI\n",
    "landsat8_AOI = landsat8.filterBounds(AOI)"
   ]
  },
  {
   "cell_type": "code",
   "execution_count": 8,
   "id": "605a7139",
   "metadata": {
    "scrolled": true
   },
   "outputs": [
    {
     "name": "stdout",
     "output_type": "stream",
     "text": [
      "Total number: 106\n"
     ]
    }
   ],
   "source": [
    "# print the number of images that match our search criteria\n",
    "print('Total number:', landsat8_AOI.size().getInfo())"
   ]
  },
  {
   "cell_type": "code",
   "execution_count": 9,
   "id": "13c0fe71",
   "metadata": {},
   "outputs": [],
   "source": [
    "# filter the landsat imagery temporally to some recent summer images\n",
    "landsat8_AOI_summmer2019 = landsat8_AOI.filterDate('2019-07-01','2019-12-01')"
   ]
  },
  {
   "cell_type": "code",
   "execution_count": 10,
   "id": "564ee1d3",
   "metadata": {
    "scrolled": true
   },
   "outputs": [
    {
     "name": "stdout",
     "output_type": "stream",
     "text": [
      "Total number: 9\n"
     ]
    }
   ],
   "source": [
    "# print the number of images that match our new search criteria\n",
    "print('Total number:', landsat8_AOI_summmer2019.size().getInfo())"
   ]
  },
  {
   "cell_type": "code",
   "execution_count": 11,
   "id": "319f2484",
   "metadata": {},
   "outputs": [
    {
     "data": {
      "text/plain": [
       "['B1',\n",
       " 'B2',\n",
       " 'B3',\n",
       " 'B4',\n",
       " 'B5',\n",
       " 'B6',\n",
       " 'B7',\n",
       " 'B10',\n",
       " 'B11',\n",
       " 'sr_aerosol',\n",
       " 'pixel_qa',\n",
       " 'radsat_qa']"
      ]
     },
     "execution_count": 11,
     "metadata": {},
     "output_type": "execute_result"
    }
   ],
   "source": [
    "# we should already know the bands but let's check that they are there\n",
    "landsat8_AOI_summmer2019.first().bandNames().getInfo()"
   ]
  },
  {
   "cell_type": "code",
   "execution_count": 12,
   "id": "75bd2405",
   "metadata": {},
   "outputs": [],
   "source": [
    "# we have 9 images matching our criteria, so let's sort by cloud cover\n",
    "fewest_clouds = ee.Image(landsat8_AOI_summmer2019.sort('CLOUD_COVER').first())"
   ]
  },
  {
   "cell_type": "code",
   "execution_count": 13,
   "id": "a6cc591b",
   "metadata": {},
   "outputs": [
    {
     "name": "stdout",
     "output_type": "stream",
     "text": [
      "Image has 0% clouds.\n"
     ]
    }
   ],
   "source": [
    "# let's see how cloudy our least cloudy image is\n",
    "print(\"Image has {}% clouds.\".format(fewest_clouds.get('CLOUD_COVER').getInfo()))"
   ]
  },
  {
   "cell_type": "code",
   "execution_count": 14,
   "id": "de5a0b9e",
   "metadata": {},
   "outputs": [],
   "source": [
    "# let's see when this image was taken\n",
    "date = ee.Date(fewest_clouds.get('system:time_start'))"
   ]
  },
  {
   "cell_type": "code",
   "execution_count": 15,
   "id": "d1e39334",
   "metadata": {},
   "outputs": [
    {
     "name": "stdout",
     "output_type": "stream",
     "text": [
      "ee.Date({\n",
      "  \"functionInvocationValue\": {\n",
      "    \"functionName\": \"Date\",\n",
      "    \"arguments\": {\n",
      "      \"value\": {\n",
      "        \"functionInvocationValue\": {\n",
      "          \"functionName\": \"Element.get\",\n",
      "          \"arguments\": {\n",
      "            \"object\": {\n",
      "              \"functionInvocationValue\": {\n",
      "                \"functionName\": \"Collection.first\",\n",
      "                \"arguments\": {\n",
      "                  \"collection\": {\n",
      "                    \"functionInvocationValue\": {\n",
      "                      \"functionName\": \"Collection.limit\",\n",
      "                      \"arguments\": {\n",
      "                        \"collection\": {\n",
      "                          \"functionInvocationValue\": {\n",
      "                            \"functionName\": \"Collection.filter\",\n",
      "                            \"arguments\": {\n",
      "                              \"collection\": {\n",
      "                                \"functionInvocationValue\": {\n",
      "                                  \"functionName\": \"Collection.filter\",\n",
      "                                  \"arguments\": {\n",
      "                                    \"collection\": {\n",
      "                                      \"functionInvocationValue\": {\n",
      "                                        \"functionName\": \"ImageCollection.load\",\n",
      "                                        \"arguments\": {\n",
      "                                          \"id\": {\n",
      "                                            \"constantValue\": \"LANDSAT/LC08/C01/T1_SR\"\n",
      "                                          }\n",
      "                                        }\n",
      "                                      }\n",
      "                                    },\n",
      "                                    \"filter\": {\n",
      "                                      \"functionInvocationValue\": {\n",
      "                                        \"functionName\": \"Filter.intersects\",\n",
      "                                        \"arguments\": {\n",
      "                                          \"leftField\": {\n",
      "                                            \"constantValue\": \".all\"\n",
      "                                          },\n",
      "                                          \"rightValue\": {\n",
      "                                            \"functionInvocationValue\": {\n",
      "                                              \"functionName\": \"Feature\",\n",
      "                                              \"arguments\": {\n",
      "                                                \"geometry\": {\n",
      "                                                  \"functionInvocationValue\": {\n",
      "                                                    \"functionName\": \"GeometryConstructors.Polygon\",\n",
      "                                                    \"arguments\": {\n",
      "                                                      \"coordinates\": {\n",
      "                                                        \"constantValue\": [\n",
      "                                                          [\n",
      "                                                            [\n",
      "                                                              -51.84448,\n",
      "                                                              -4.38201\n",
      "                                                            ],\n",
      "                                                            [\n",
      "                                                              -51.84448,\n",
      "                                                              -3.9218\n",
      "                                                            ],\n",
      "                                                            [\n",
      "                                                              -52.23999,\n",
      "                                                              -3.9218\n",
      "                                                            ],\n",
      "                                                            [\n",
      "                                                              -52.23999,\n",
      "                                                              -4.38201\n",
      "                                                            ]\n",
      "                                                          ]\n",
      "                                                        ]\n",
      "                                                      },\n",
      "                                                      \"evenOdd\": {\n",
      "                                                        \"constantValue\": true\n",
      "                                                      }\n",
      "                                                    }\n",
      "                                                  }\n",
      "                                                }\n",
      "                                              }\n",
      "                                            }\n",
      "                                          }\n",
      "                                        }\n",
      "                                      }\n",
      "                                    }\n",
      "                                  }\n",
      "                                }\n",
      "                              },\n",
      "                              \"filter\": {\n",
      "                                \"functionInvocationValue\": {\n",
      "                                  \"functionName\": \"Filter.dateRangeContains\",\n",
      "                                  \"arguments\": {\n",
      "                                    \"leftValue\": {\n",
      "                                      \"functionInvocationValue\": {\n",
      "                                        \"functionName\": \"DateRange\",\n",
      "                                        \"arguments\": {\n",
      "                                          \"end\": {\n",
      "                                            \"constantValue\": \"2019-12-01\"\n",
      "                                          },\n",
      "                                          \"start\": {\n",
      "                                            \"constantValue\": \"2019-07-01\"\n",
      "                                          }\n",
      "                                        }\n",
      "                                      }\n",
      "                                    },\n",
      "                                    \"rightField\": {\n",
      "                                      \"constantValue\": \"system:time_start\"\n",
      "                                    }\n",
      "                                  }\n",
      "                                }\n",
      "                              }\n",
      "                            }\n",
      "                          }\n",
      "                        },\n",
      "                        \"key\": {\n",
      "                          \"constantValue\": \"CLOUD_COVER\"\n",
      "                        }\n",
      "                      }\n",
      "                    }\n",
      "                  }\n",
      "                }\n",
      "              }\n",
      "            },\n",
      "            \"property\": {\n",
      "              \"constantValue\": \"system:time_start\"\n",
      "            }\n",
      "          }\n",
      "        }\n",
      "      }\n",
      "    }\n",
      "  }\n",
      "})\n"
     ]
    }
   ],
   "source": [
    "# what does this return?\n",
    "print(date)"
   ]
  },
  {
   "cell_type": "code",
   "execution_count": 16,
   "id": "aac6634d",
   "metadata": {},
   "outputs": [],
   "source": [
    "# we need to do some further parsing to get the actual date\n",
    "time = date.getInfo()['value']/1000."
   ]
  },
  {
   "cell_type": "code",
   "execution_count": 17,
   "id": "de3d5d56",
   "metadata": {},
   "outputs": [
    {
     "name": "stdout",
     "output_type": "stream",
     "text": [
      "1565530582.221\n"
     ]
    }
   ],
   "source": [
    "# now what do we have?\n",
    "print(time)"
   ]
  },
  {
   "cell_type": "code",
   "execution_count": 18,
   "id": "34ceb369",
   "metadata": {},
   "outputs": [
    {
     "name": "stdout",
     "output_type": "stream",
     "text": [
      "2019-08-11 13:36:22\n"
     ]
    }
   ],
   "source": [
    "# that still doesn't look quite right, but this should be in UTC\n",
    "# we can use the datetime library to make this human-readable\n",
    "print(dt.utcfromtimestamp(time).strftime('%Y-%m-%d %H:%M:%S'))"
   ]
  },
  {
   "cell_type": "code",
   "execution_count": 19,
   "id": "03d491ab",
   "metadata": {
    "scrolled": false
   },
   "outputs": [
    {
     "data": {
      "text/html": [
       "<img src=\"https://earthengine.googleapis.com/v1alpha/projects/earthengine-legacy/thumbnails/022d8c9598be65e5a0032bdfab730173-2d63c5ec2339d64a58eba3a61cb5737a:getPixels\"/>"
      ],
      "text/plain": [
       "<IPython.core.display.Image object>"
      ]
     },
     "execution_count": 19,
     "metadata": {},
     "output_type": "execute_result"
    }
   ],
   "source": [
    "# let's put together a simple RGB image of this area\n",
    "parameters = {'min': 0,\n",
    "              'max': 1000,\n",
    "              'dimensions': 1000,\n",
    "              'bands': ['B4', 'B3', 'B2'],\n",
    "              'region': AOI}\n",
    "\n",
    "# we can now query ee and display it as a static image in IPython\n",
    "Image(url = fewest_clouds.getThumbUrl(parameters))"
   ]
  },
  {
   "cell_type": "code",
   "execution_count": 20,
   "id": "03b1d77a",
   "metadata": {},
   "outputs": [],
   "source": [
    "# calculate the NDVI quickly, or any other normalized difference reallyndvi = least_cloudy.normalizedDifference(['B5', 'B4'])\n",
    "fewest_clouds_ndvi = fewest_clouds.normalizedDifference(['B5', 'B4'])"
   ]
  },
  {
   "cell_type": "code",
   "execution_count": 21,
   "id": "78cf8b36",
   "metadata": {},
   "outputs": [
    {
     "data": {
      "text/html": [
       "<div style=\"width:100%;\"><div style=\"position:relative;width:100%;height:0;padding-bottom:60%;\"><span style=\"color:#565656\">Make this Notebook Trusted to load map: File -> Trust Notebook</span><iframe src=\"about:blank\" style=\"position:absolute;width:100%;height:100%;left:0;top:0;border:none !important;\" data-html=%3C%21DOCTYPE%20html%3E%0A%3Chead%3E%20%20%20%20%0A%20%20%20%20%3Cmeta%20http-equiv%3D%22content-type%22%20content%3D%22text/html%3B%20charset%3DUTF-8%22%20/%3E%0A%20%20%20%20%0A%20%20%20%20%20%20%20%20%3Cscript%3E%0A%20%20%20%20%20%20%20%20%20%20%20%20L_NO_TOUCH%20%3D%20false%3B%0A%20%20%20%20%20%20%20%20%20%20%20%20L_DISABLE_3D%20%3D%20false%3B%0A%20%20%20%20%20%20%20%20%3C/script%3E%0A%20%20%20%20%0A%20%20%20%20%3Cstyle%3Ehtml%2C%20body%20%7Bwidth%3A%20100%25%3Bheight%3A%20100%25%3Bmargin%3A%200%3Bpadding%3A%200%3B%7D%3C/style%3E%0A%20%20%20%20%3Cstyle%3E%23map%20%7Bposition%3Aabsolute%3Btop%3A0%3Bbottom%3A0%3Bright%3A0%3Bleft%3A0%3B%7D%3C/style%3E%0A%20%20%20%20%3Cscript%20src%3D%22https%3A//cdn.jsdelivr.net/npm/leaflet%401.6.0/dist/leaflet.js%22%3E%3C/script%3E%0A%20%20%20%20%3Cscript%20src%3D%22https%3A//code.jquery.com/jquery-1.12.4.min.js%22%3E%3C/script%3E%0A%20%20%20%20%3Cscript%20src%3D%22https%3A//maxcdn.bootstrapcdn.com/bootstrap/3.2.0/js/bootstrap.min.js%22%3E%3C/script%3E%0A%20%20%20%20%3Cscript%20src%3D%22https%3A//cdnjs.cloudflare.com/ajax/libs/Leaflet.awesome-markers/2.0.2/leaflet.awesome-markers.js%22%3E%3C/script%3E%0A%20%20%20%20%3Clink%20rel%3D%22stylesheet%22%20href%3D%22https%3A//cdn.jsdelivr.net/npm/leaflet%401.6.0/dist/leaflet.css%22/%3E%0A%20%20%20%20%3Clink%20rel%3D%22stylesheet%22%20href%3D%22https%3A//maxcdn.bootstrapcdn.com/bootstrap/3.2.0/css/bootstrap.min.css%22/%3E%0A%20%20%20%20%3Clink%20rel%3D%22stylesheet%22%20href%3D%22https%3A//maxcdn.bootstrapcdn.com/bootstrap/3.2.0/css/bootstrap-theme.min.css%22/%3E%0A%20%20%20%20%3Clink%20rel%3D%22stylesheet%22%20href%3D%22https%3A//maxcdn.bootstrapcdn.com/font-awesome/4.6.3/css/font-awesome.min.css%22/%3E%0A%20%20%20%20%3Clink%20rel%3D%22stylesheet%22%20href%3D%22https%3A//cdnjs.cloudflare.com/ajax/libs/Leaflet.awesome-markers/2.0.2/leaflet.awesome-markers.css%22/%3E%0A%20%20%20%20%3Clink%20rel%3D%22stylesheet%22%20href%3D%22https%3A//cdn.jsdelivr.net/gh/python-visualization/folium/folium/templates/leaflet.awesome.rotate.min.css%22/%3E%0A%20%20%20%20%0A%20%20%20%20%20%20%20%20%20%20%20%20%3Cmeta%20name%3D%22viewport%22%20content%3D%22width%3Ddevice-width%2C%0A%20%20%20%20%20%20%20%20%20%20%20%20%20%20%20%20initial-scale%3D1.0%2C%20maximum-scale%3D1.0%2C%20user-scalable%3Dno%22%20/%3E%0A%20%20%20%20%20%20%20%20%20%20%20%20%3Cstyle%3E%0A%20%20%20%20%20%20%20%20%20%20%20%20%20%20%20%20%23map_97aeedb8f7ca42f3b90eef1007c179d9%20%7B%0A%20%20%20%20%20%20%20%20%20%20%20%20%20%20%20%20%20%20%20%20position%3A%20relative%3B%0A%20%20%20%20%20%20%20%20%20%20%20%20%20%20%20%20%20%20%20%20width%3A%20100.0%25%3B%0A%20%20%20%20%20%20%20%20%20%20%20%20%20%20%20%20%20%20%20%20height%3A%20100.0%25%3B%0A%20%20%20%20%20%20%20%20%20%20%20%20%20%20%20%20%20%20%20%20left%3A%200.0%25%3B%0A%20%20%20%20%20%20%20%20%20%20%20%20%20%20%20%20%20%20%20%20top%3A%200.0%25%3B%0A%20%20%20%20%20%20%20%20%20%20%20%20%20%20%20%20%7D%0A%20%20%20%20%20%20%20%20%20%20%20%20%3C/style%3E%0A%20%20%20%20%20%20%20%20%0A%3C/head%3E%0A%3Cbody%3E%20%20%20%20%0A%20%20%20%20%0A%20%20%20%20%20%20%20%20%20%20%20%20%3Cdiv%20class%3D%22folium-map%22%20id%3D%22map_97aeedb8f7ca42f3b90eef1007c179d9%22%20%3E%3C/div%3E%0A%20%20%20%20%20%20%20%20%0A%3C/body%3E%0A%3Cscript%3E%20%20%20%20%0A%20%20%20%20%0A%20%20%20%20%20%20%20%20%20%20%20%20var%20map_97aeedb8f7ca42f3b90eef1007c179d9%20%3D%20L.map%28%0A%20%20%20%20%20%20%20%20%20%20%20%20%20%20%20%20%22map_97aeedb8f7ca42f3b90eef1007c179d9%22%2C%0A%20%20%20%20%20%20%20%20%20%20%20%20%20%20%20%20%7B%0A%20%20%20%20%20%20%20%20%20%20%20%20%20%20%20%20%20%20%20%20center%3A%20%5B-4.0%2C%20-52.0%5D%2C%0A%20%20%20%20%20%20%20%20%20%20%20%20%20%20%20%20%20%20%20%20crs%3A%20L.CRS.EPSG3857%2C%0A%20%20%20%20%20%20%20%20%20%20%20%20%20%20%20%20%20%20%20%20zoom%3A%2010%2C%0A%20%20%20%20%20%20%20%20%20%20%20%20%20%20%20%20%20%20%20%20zoomControl%3A%20true%2C%0A%20%20%20%20%20%20%20%20%20%20%20%20%20%20%20%20%20%20%20%20preferCanvas%3A%20false%2C%0A%20%20%20%20%20%20%20%20%20%20%20%20%20%20%20%20%7D%0A%20%20%20%20%20%20%20%20%20%20%20%20%29%3B%0A%0A%20%20%20%20%20%20%20%20%20%20%20%20%0A%0A%20%20%20%20%20%20%20%20%0A%20%20%20%20%0A%20%20%20%20%20%20%20%20%20%20%20%20var%20tile_layer_6c2289e46ccf4fc08cf0634004512185%20%3D%20L.tileLayer%28%0A%20%20%20%20%20%20%20%20%20%20%20%20%20%20%20%20%22https%3A//%7Bs%7D.tile.openstreetmap.org/%7Bz%7D/%7Bx%7D/%7By%7D.png%22%2C%0A%20%20%20%20%20%20%20%20%20%20%20%20%20%20%20%20%7B%22attribution%22%3A%20%22Data%20by%20%5Cu0026copy%3B%20%5Cu003ca%20href%3D%5C%22http%3A//openstreetmap.org%5C%22%5Cu003eOpenStreetMap%5Cu003c/a%5Cu003e%2C%20under%20%5Cu003ca%20href%3D%5C%22http%3A//www.openstreetmap.org/copyright%5C%22%5Cu003eODbL%5Cu003c/a%5Cu003e.%22%2C%20%22detectRetina%22%3A%20false%2C%20%22maxNativeZoom%22%3A%2018%2C%20%22maxZoom%22%3A%2018%2C%20%22minZoom%22%3A%200%2C%20%22noWrap%22%3A%20false%2C%20%22opacity%22%3A%201%2C%20%22subdomains%22%3A%20%22abc%22%2C%20%22tms%22%3A%20false%7D%0A%20%20%20%20%20%20%20%20%20%20%20%20%29.addTo%28map_97aeedb8f7ca42f3b90eef1007c179d9%29%3B%0A%20%20%20%20%20%20%20%20%0A%20%20%20%20%0A%20%20%20%20%20%20%20%20%20%20%20%20var%20tile_layer_3f895c594a9541349029792753bcc0df%20%3D%20L.tileLayer%28%0A%20%20%20%20%20%20%20%20%20%20%20%20%20%20%20%20%22https%3A//earthengine.googleapis.com/v1alpha/projects/earthengine-legacy/maps/a4c6047f484a4541ba980fe91e15e578-480b1de40fa023cd31547aaf3f9eca6c/tiles/%7Bz%7D/%7Bx%7D/%7By%7D%22%2C%0A%20%20%20%20%20%20%20%20%20%20%20%20%20%20%20%20%7B%22attribution%22%3A%20%22Google%20Earth%20Engine%22%2C%20%22detectRetina%22%3A%20false%2C%20%22maxNativeZoom%22%3A%2018%2C%20%22maxZoom%22%3A%2018%2C%20%22minZoom%22%3A%200%2C%20%22noWrap%22%3A%20false%2C%20%22opacity%22%3A%201%2C%20%22subdomains%22%3A%20%22abc%22%2C%20%22tms%22%3A%20false%7D%0A%20%20%20%20%20%20%20%20%20%20%20%20%29.addTo%28map_97aeedb8f7ca42f3b90eef1007c179d9%29%3B%0A%20%20%20%20%20%20%20%20%0A%3C/script%3E onload=\"this.contentDocument.open();this.contentDocument.write(    decodeURIComponent(this.getAttribute('data-html')));this.contentDocument.close();\" allowfullscreen webkitallowfullscreen mozallowfullscreen></iframe></div></div>"
      ],
      "text/plain": [
       "<folium.folium.Map at 0x18fd50f8910>"
      ]
     },
     "execution_count": 21,
     "metadata": {},
     "output_type": "execute_result"
    }
   ],
   "source": [
    "# since interactive maps are more fun than static images, let's make a map\n",
    "# set a color map, we can use anythin here really\n",
    "palette = ['red', 'yellow', 'green']\n",
    "\n",
    "# set our NDVI parameters\n",
    "ndvi_parameters = {'min': 0,\n",
    "                   'max': 1,\n",
    "                   'dimensions': 512,\n",
    "                   'palette': palette,\n",
    "                   'region': AOI}\n",
    "\n",
    "# add the new layer to the map we created above\n",
    "amazon_map.addLayer(fewest_clouds_ndvi, ndvi_parameters)\n",
    "amazon_map"
   ]
  }
 ],
 "metadata": {
  "kernelspec": {
   "display_name": "Python 3",
   "language": "python",
   "name": "python3"
  },
  "language_info": {
   "codemirror_mode": {
    "name": "ipython",
    "version": 3
   },
   "file_extension": ".py",
   "mimetype": "text/x-python",
   "name": "python",
   "nbconvert_exporter": "python",
   "pygments_lexer": "ipython3",
   "version": "3.9.5"
  }
 },
 "nbformat": 4,
 "nbformat_minor": 5
}
